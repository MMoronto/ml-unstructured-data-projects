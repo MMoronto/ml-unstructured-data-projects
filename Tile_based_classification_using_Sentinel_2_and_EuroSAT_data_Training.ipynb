{
  "nbformat": 4,
  "nbformat_minor": 0,
  "metadata": {
    "colab": {
      "name": "Tile-based classification using Sentinel-2 and EuroSAT data-Training.ipynb",
      "provenance": [],
      "mount_file_id": "1Nb6axbd2makj-lAkYy_81CqLwf8aKOQ9",
      "authorship_tag": "ABX9TyMZXolSTMh49UGW+6JNCdWz",
      "include_colab_link": true
    },
    "kernelspec": {
      "name": "python3",
      "display_name": "Python 3"
    },
    "language_info": {
      "name": "python"
    }
  },
  "cells": [
    {
      "cell_type": "markdown",
      "metadata": {
        "id": "view-in-github",
        "colab_type": "text"
      },
      "source": [
        "<a href=\"https://colab.research.google.com/github/MMoronto/ml-unstructured-data-projects/blob/master/Tile_based_classification_using_Sentinel_2_and_EuroSAT_data_Training.ipynb\" target=\"_parent\"><img src=\"https://colab.research.google.com/assets/colab-badge.svg\" alt=\"Open In Colab\"/></a>"
      ]
    },
    {
      "cell_type": "markdown",
      "metadata": {
        "id": "TeFaI7puszgm"
      },
      "source": [
        "##**Intro**\n",
        "\n",
        "This workflow explores the process of training a `Convolutional Neural Network (CNN)` with Keras based on the benchmark dataset EuroSAT. This note book contains notes I've taken as I work through the example workflow presented in the AI for Earth monitoring MOOC on Futurelearn.\n",
        "\n",
        "There are two parts to this learning module, the first part as described above explores the process of training a convolutional neural network based on EuroSAT benchmark data for land use/land cover classification while the second part explores the workflow for utilising the learned capabilities of our pre-trained model to infer land use / land cover classification on a Sentinel-2 level-1C tile image.   \n"
      ]
    },
    {
      "cell_type": "code",
      "metadata": {
        "id": "L9VXwPV6rPRM"
      },
      "source": [
        ""
      ],
      "execution_count": null,
      "outputs": []
    },
    {
      "cell_type": "markdown",
      "metadata": {
        "id": "pkSeuefswyfX"
      },
      "source": [
        "##**Machine-Learning Algorithm**\n",
        "\n",
        "This example develops a `Sequential Convolutional Neural Network (CNN)` with TF Keras."
      ]
    },
    {
      "cell_type": "markdown",
      "metadata": {
        "id": "OyS5FFHUxcN_"
      },
      "source": [
        "##**Data**\n",
        "The model is trained on the EuroSAT benchmark dataset which is based on Sentinel-2 satellite images and consists of 27,000 labeled and geo-referenced images.The dataset provides information on the following ten land cover/land use cases:\n",
        "* `Annual Crop`\n",
        "* `Forest`\n",
        "* `Herbaceous Vegetation`\n",
        "* `Highway`\n",
        "* Industrial`\n",
        "* `Pasture`\n",
        "* `Permanent Crop`\n",
        "* `Residential`\n",
        "* `River`\n",
        "* `Sea Lake`\n",
        "\n",
        "The benchmark dataset can be used to detect `land cover / land use changes`. The geo-referenced datasset EuroSAT is publicly accessible here: https://github.com/phelber/eurosat\n",
        "\n",
        "## Notebook Outline\n",
        "* 1 - Load the EuroSAT benchmark dataset as input data\n",
        "* 2 - Create training and test subsets from input data\n",
        "* 3 - Define the Convolutional Neural Network architecture\n",
        "* 4 - Fit (train) the convolutional neural network (CNN)\n",
        "* 5 - Evaluate the performance of the CNN model with a confusion matrix\n",
        "\n",
        "\n",
        "**Import Libraries**"
      ]
    },
    {
      "cell_type": "code",
      "metadata": {
        "id": "hsppuKATLSor"
      },
      "source": [
        "## Begin S3FS Import Snippet ##\n",
        "import os, sys\n",
        "s3_home = os.getcwd()\n",
        "try: sys.path.remove(s3_home) # Remove the S3 from the $path\n",
        "except Exception: pass\n",
        "\n",
        "# current_dir = os.getcwd()\n",
        "\n",
        "# os.chdir('/home/jovyan') # Temporarily move to another directory\n",
        "\n",
        "# Begin imports #\n",
        "from tensorflow import keras\n",
        "from tensorflow.keras.preprocessing.image import ImageDataGenerator\n",
        "from tensorflow.keras.models import Sequential\n",
        "from tensorflow.keras.layers import Dense, Dropout, Activation, Flatten\n",
        "from tensorflow.keras.layers import Conv2D, MaxPooling2D\n",
        "from tensorflow.keras.callbacks import ModelCheckpoint\n",
        "\n",
        "import glob\n",
        "\n",
        "import numpy as np\n",
        "import pandas as pd\n",
        "import seaborn as sns\n",
        "\n",
        "from osgeo import gdal_array\n",
        "from matplotlib import pyplot as pyplot\n",
        "import matplotlib.pyplot as plt\n",
        "\n",
        "from sklearn import metrics\n",
        "from sklearn.model_selection import train_test_split\n",
        "\n",
        "import zipfile\n",
        "# end imports #\n",
        "\n",
        "# os.chdir(current_dir) # go back to your previous dir\n",
        "\n",
        "# sys.path.append(s3_home) # restore the s3 root in the $path\n",
        "\n",
        "## end s3fs import snippet ##\n",
        "\n"
      ],
      "execution_count": null,
      "outputs": []
    },
    {
      "cell_type": "code",
      "metadata": {
        "id": "ttI_pu8vzd8_"
      },
      "source": [
        "# !unzip \"drive/MyDrive/Land Classification/S2_Tile_based_classification.zip\" -d \"drive/MyDrive/Land Classification/\""
      ],
      "execution_count": null,
      "outputs": []
    },
    {
      "cell_type": "markdown",
      "metadata": {
        "id": "X-DF0lwEWyWk"
      },
      "source": [
        "Define helper functions"
      ]
    },
    {
      "cell_type": "markdown",
      "metadata": {
        "id": "b3mvsK6CKOO-"
      },
      "source": [
        "from_folder_to_stack"
      ]
    },
    {
      "cell_type": "code",
      "metadata": {
        "id": "pwNtHfldXIaf"
      },
      "source": [
        "import numpy as np\n",
        "\n",
        "'''\n",
        "function name:\n",
        "  from_folder_to_stack\n",
        "description:\n",
        "  This function transforms the .SAFE file into three different arrays (10m, 20m and 60m).\n",
        "Input:\n",
        "  safe_path: the path of the .SAFE file;\n",
        "  data_bands_20m: if True, the fumnction computes stack using Sentinel2 band with 20m of pixel resolution (default=True);\n",
        "  data_bands_60m: if True, the function computes stack using Sentinel2 band with 60m of pixel resolution (default=True);\n",
        "Output:\n",
        "  stack_10m: stack with the following S2L1C bands (B02, B03, B04, B08)\n",
        "  stack_20m: stack with the following S2L1C bands (B05, B06, B07, B11, B12, B8A)\n",
        "  stack_60m: stack with the following S2L1C bands (B01, mB09, B10)\n",
        "'''\n",
        "def from_folder_to_stack(\n",
        "    safe_path,\n",
        "    data_bands_20m=True,\n",
        "    data_bands_60m=True,\n",
        "    ):\n",
        "\n",
        "  level_folder_name_list = glob.glob(safe_path + 'GRANULE/*')\n",
        "  level_folder_name = level_folder_name_list[0]\n",
        "\n",
        "  if level_folder_name.find(\"L2A\") < 0:\n",
        "    safe_path = [level_folder_name + '/IMG_DATA/']\n",
        "  else:\n",
        "    safe_path_10m = level_folder_name + '/IMG_DATA/R10m/'\n",
        "    safe_path = [safe_path_10m]\n",
        "\n",
        "  text_files = []\n",
        "\n",
        "  for i in range(0, len(safe_path)):\n",
        "      print(\"[AI4EO_MOOC]_log: Loading .jp2 images in %s\" % (safe_path[i]))\n",
        "      text_files_tmp = [f for f in os.listdir(safe_path[i]) if f.endswith('.jp2')]\n",
        "      text_files.append(text_files_tmp)\n",
        "\n",
        "  lst_stack_60m=[]\n",
        "  lst_code_60m=[]\n",
        "  lst_stack_20m=[]\n",
        "  lst_code_20m=[]\n",
        "  lst_stack_10m=[]\n",
        "  lst_code_10m=[]\n",
        "  for i in range(0, len(safe_path)):\n",
        "\n",
        "    print(\"[AI4EO_MOOC]_log: Reading .jp2 files in %s\" % (safe_path[i]))\n",
        "    for name in range(0, len(text_files[i])):\n",
        "      text_files_tmp = text_files[i]\n",
        "      if data_bands_60m == True:\n",
        "        cond_60m = ( (text_files_tmp[name].find(\"B01\") > 0) or (text_files_tmp[name].find(\"B09\") > 0)\n",
        "                    or (text_files_tmp[name].find(\"B10\") > 0))\n",
        "        if cond_60m:\n",
        "            print(\"[AI4EO_MOOC]_log: Using .jp2 image: %s\" % text_files_tmp[name])\n",
        "            lst_stack_60m.append(gdal_array.LoadFile(safe_path[i] + text_files_tmp[name]))\n",
        "            lst_code_60m.append(text_files_tmp[name][24:26])\n",
        "\n",
        "      if data_bands_20m == True:\n",
        "          cond_20m = (text_files_tmp[name].find(\"B05\") > 0) or (text_files_tmp[name].find(\"B06\") > 0) or (\n",
        "                      text_files_tmp[name].find(\"B07\") > 0) or (text_files_tmp[name].find(\"B11\") > 0) or (\n",
        "                                  text_files_tmp[name].find(\"B12\") > 0) or (text_files_tmp[name].find(\"B8A\") > 0)\n",
        "          cond_60m_L2 = (text_files_tmp[name].find(\"B05_60m\") < 0) and (text_files_tmp[name].find(\"B06_60m\") < 0) and (\n",
        "                      text_files_tmp[name].find(\"B07_60m\") < 0) and (text_files_tmp[name].find(\"B11_60m\") < 0) and (\n",
        "                                  text_files_tmp[name].find(\"B12_60m\") < 0) and (text_files_tmp[name].find(\"B8A_60m\") < 0)\n",
        "          cond_20m_tot = cond_20m and cond_60m_L2\n",
        "          if cond_20m_tot:\n",
        "              print(\"[AI4E_MOOC]_log: Using .jp2 image: %s\" % text_files_tmp[name])\n",
        "              lst_stack_20m.append(gdal_array.LoadFile(safe_path[i] + text_files_tmp[name]))\n",
        "              lst_code_20m.append(text_files_tmp[name][24:26])\n",
        "      else:\n",
        "        stack_20m = 0\n",
        "\n",
        "      cond_10m = (text_files_tmp[name].find(\"B02\") > 0) or (text_files_tmp[name].find(\"B03\") > 0) or (\n",
        "                  text_files_tmp[name].find(\"B04\") > 0) or (text_files_tmp[name].find(\"B08\") > 0)\n",
        "      cond_20m_L2 = (text_files_tmp[name].find(\"B02_20m\") < 0) and (text_files_tmp[name].find(\"B03_20m\") < 0) and (\n",
        "                  text_files_tmp[name].find(\"B04_20m\") < 0) and (text_files_tmp[name].find(\"B08_20m\") < 0)\n",
        "      cond_60m_L2 = (text_files_tmp[name].find(\"B02_60m\") < 0) and (text_files_tmp[name].find(\"B03_60m\") < 0) and (\n",
        "                  text_files_tmp[name].find(\"B04_60m\") < 0) and (text_files_tmp[name].find(\"B08_60m\") < 0)\n",
        "      cond_10m_tot = cond_10m and cond_20m_L2 and cond_60m_L2\n",
        "\n",
        "      if cond_10m_tot:\n",
        "          print(\"[AI4E)_MOOC]_log: Using .jp2 image: %s\" % text_files_tmp[name])\n",
        "          lst_stack_10m.append(gdal_array.LoadFile(safe_path[i] + text_files_tmp[name]))\n",
        "          lst_code_10m.append(text_files_tmp[name][24:26])\n",
        "\n",
        "\n",
        "  stack_10m=np.asarray(lst_stack_10m)\n",
        "  sorted_list_10m = ['02', '03', '04', '08']\n",
        "  print('[AI4EO_MOOC]_log: Sorting stack 10m...')\n",
        "  stack_10m_final_sorted = stack_sort(stack_10m, lst_code_10m, sorted_list_10m)\n",
        "\n",
        "  stack_20m=np.asarray(lst_stack_20m)\n",
        "  sorted_list_20m = ['05', '06', '07', '11', '12', '8A']\n",
        "  print('[AI4EO_MOOC]_log: Sorting stack 20m...')\n",
        "  stack_20m_final_sorted = stack_sort(stack_20m, lst_code_20m, sorted_list_20m)\n",
        "              \n",
        "  stack_60m=np.asarray(lst_stack_60m)\n",
        "  sorted_list_60m = ['01', '09', '10']\n",
        "  print('[AI4EO_MOOC]_log: Sorting stack 60m...')\n",
        "  stack_60m_final_sorted = stack_sort(stack_60m, lst_code_60m, sorted_list_60m)\n",
        "\n",
        "  return stack_10m_final_sorted, stack_20m_final_sorted, stack_60m_final_sorted"
      ],
      "execution_count": null,
      "outputs": []
    },
    {
      "cell_type": "markdown",
      "metadata": {
        "id": "RwSv2ExkGK9e"
      },
      "source": [
        "stack_sort"
      ]
    },
    {
      "cell_type": "code",
      "metadata": {
        "id": "aW6E0LvU_wB0"
      },
      "source": [
        "def stack_sort(stack_in, lst_code, sorted_list):\n",
        "  b, r, c = stack_in.shape\n",
        "  stack_sorted = np.zeros((r,c,b), dtype=np.unit16)\n",
        "\n",
        "  len_list_bands = len(lst_code)\n",
        "\n",
        "  c = np.zeros((len_list_bands), dtype=np.unit8)\n",
        "  count = 0\n",
        "  count_sort = 0\n",
        "  while count_sort != len_list_bands:\n",
        "    if lst_code[count] == sorted_list[count_sort]:\n",
        "      c[count_sort] = count\n",
        "      count_sort = count_sort + 1\n",
        "      count = 0\n",
        "    else:\n",
        "      count = count + 1\n",
        "    print('[AI4EO_MOOC]_log: sorted list:', sorted_list)\n",
        "    print('[AI4EO_MOOC]_log: bands:', c)\n",
        "    for i in range(0, len_list_bands):\n",
        "        stack_sorted[:,:,i]=stack_in[c[i],:,:]\n",
        "    \n",
        "    return stack_sorted"
      ],
      "execution_count": null,
      "outputs": []
    },
    {
      "cell_type": "markdown",
      "metadata": {
        "id": "aXYkZZV_IrQs"
      },
      "source": [
        "resample_3d"
      ]
    },
    {
      "cell_type": "code",
      "metadata": {
        "id": "mIS-jKoKI8uK"
      },
      "source": [
        "'''\n",
        "function name:\n",
        "  resample_3d\n",
        "description:\n",
        "  wrapper of ndimage zoom. Bilinear interpolation for resampling array\n",
        "input:\n",
        "  stack: array to be resampled;\n",
        "  row10m: the expected row;\n",
        "  col10m: the expected col;\n",
        "  rate: the rate of the transformation;\n",
        "output:\n",
        "  stack_10m: resampled array\n",
        "'''\n",
        "def resample_3d(\n",
        "        stack,\n",
        "        row10m,\n",
        "        col10m,\n",
        "        rate):\n",
        "    row, col, bands = stack.shape\n",
        "    print(\"[AI4EO_MOOC]_log: Array shape (%d,%d,%d)\" % (row, col, bands))\n",
        "\n",
        "    stack_10m = np.zeros((row10m, col10m, bands),dtype=np.uint16)\n",
        "    print(\"[AI4EO_MOOC]_log: Resize array bands from (%d,%d,%d) to (%d,%d,%d)\" % (\n",
        "        row, col, bands, row10m, col10m, bands))\n",
        "    \n",
        "    for i in range(0, bands):\n",
        "      stack_10m[:, :, i] = ndimage.zoom(stack[:, :,i], rate)\n",
        "\n",
        "    del (stack)\n",
        "\n",
        "    return stack_10m"
      ],
      "execution_count": null,
      "outputs": []
    },
    {
      "cell_type": "markdown",
      "metadata": {
        "id": "lJ0Kp7sWIwPk"
      },
      "source": [
        "sentinel2_format"
      ]
    },
    {
      "cell_type": "code",
      "metadata": {
        "id": "eg3mAuYCJAO-"
      },
      "source": [
        "'''\n",
        "function name:\n",
        "  sentinel2_format\n",
        "description:\n",
        "  This function transforms the multistack into sentinel2 format arrays with bands in the right positions for our AI model.\n",
        "input:\n",
        "  total_stack: array that is the concatenation of stack10, stack_20mTo10m and stack_60mTo10m.\n",
        "output:\n",
        "  sentinel2: sentinel2 format array\n",
        "'''\n",
        "def sentinel2_format(\n",
        "        total_stack):\n",
        "  \n",
        "    row_tot, col_tot, bands_tot = total_stack.shape\n",
        "    sentinel2 = np.zeros((row_tot, col_tot, bands_tot),dtype=np.unit16)\n",
        "\n",
        "    print(\"[AI4EO_MOOC]_log: Creating a total stack with following list of bands:\")\n",
        "    print(\"[AI4EO_MOOC]_log: Band 1 - Coastal aerosol\")\n",
        "    print(\"[AI4EO_MOOC]_log: Band 2 - Blue\")\n",
        "    print(\"[AI4EO_MOOC]_log: Band 3 - Green\")\n",
        "    print(\"[AI4EO_MOOC]_log: Band 4 - Red\")\n",
        "    print(\"[AI4EO_MOOC]_log: Band 5 - Vegetation red edge\")\n",
        "    print(\"[AI4EO_MOOC]_log: Band 6 - Vegetation red edge\")\n",
        "    print(\"[AI4EO_MOOC]_log: Band 7 - Vegetation red edge\")\n",
        "    print(\"[AI4EO_MOOC]_log: Band 8 - NIR\")\n",
        "    print(\"[AI4EO_MOOC]_log: Band 8A - Narrow NIR\")\n",
        "    print(\"[AI4EO_MOOC]_log: Band 9 - Water vapour\")\n",
        "    print(\"[AI4EO_MOOC]_log: Band 10 - SWIR - Cirrus\")\n",
        "    print(\"[AI4EO_MOOC]_log: Band 11 - SWIR\")\n",
        "    print(\"[AI4EO_MOOC]_log: Band 12 - SWIR\")\n",
        "\n",
        "    sentinel2[:, :, 0] = total_stack[:, :, 10]\n",
        "    sentinel2[:, :, 1] = total_stack[:, :, 0]\n",
        "    sentinel2[:, :, 2] = total_stack[:, :, 1]\n",
        "    sentinel2[:, :, 3] = total_stack[:, :, 2]\n",
        "    sentinel2[:, :, 4] = total_stack[:, :, 4]\n",
        "    sentinel2[:, :, 5] = total_stack[:, :, 5]\n",
        "    sentinel2[:, :, 6] = total_stack[:, :, 6]\n",
        "    sentinel2[:, :, 7] = total_stack[:, :, 3]\n",
        "    sentinel2[:, :, 8] = total_stack[:, :, 9]\n",
        "    sentinel2[:, :, 9] = total_stack[:, :, 11]\n",
        "    sentinel2[:, :, 10] = total_stack[:, :, 12]\n",
        "    sentinel2[:, :, 11] = total_stack[:, :, 7]\n",
        "    sentinel2[:, :, 12] = total_stack[:, :, 8]"
      ],
      "execution_count": null,
      "outputs": []
    },
    {
      "cell_type": "markdown",
      "metadata": {
        "id": "z_P1HyB9I3Y8"
      },
      "source": [
        "sliding"
      ]
    },
    {
      "cell_type": "code",
      "metadata": {
        "id": "yfdgOtpfI-TY"
      },
      "source": [
        "'''\n",
        "Function_name:\n",
        "  sliding\n",
        "description:\n",
        "input:\n",
        "  shape: the target shape\n",
        "  window_size: the shape of the window\n",
        "  step-size:\n",
        "  fixed\n",
        "output:\n",
        "  windows:\n",
        "'''\n",
        "\n",
        "def sliding(shape, window_size, step_size=None, fixed=True):\n",
        "    h, w = shape\n",
        "    if step_size:\n",
        "        h_step = step_size\n",
        "        w_step = step_size\n",
        "    else:\n",
        "        h_step = window_size\n",
        "        w_step = window_size\n",
        "\n",
        "    h_wind = window_size\n",
        "    w_wind = window_size\n",
        "    windows = []\n",
        "    for y in range(0, h, h_step):\n",
        "        for x in range(0, w, w_step):\n",
        "            h_min = min(h_wind, h - y)\n",
        "            w_min = min(w_wind, w - x)\n",
        "            if fixed:\n",
        "              if h_min < h_wind or w_min < w_wind:\n",
        "                  continue\n",
        "            window = (x, y, w_min, h_min)\n",
        "            windows.append(window)\n",
        "\n",
        "    return windows"
      ],
      "execution_count": null,
      "outputs": []
    },
    {
      "cell_type": "markdown",
      "metadata": {
        "id": "Ncaoujg8H-7h"
      },
      "source": [
        "# **1. Load the EuroSAT benchmark dataset as input data**\n",
        "The `EuroSAT benchmark dataset` is `drive/MyDrive/Land Classificatiion/S2_Tile_based_classification/01_Input_data/S2_tile_4_training/`. This folder contains a folder for each of the ten land cover classes. The first step involves loading all the EuroSAT images from all the folders as a `numpy` array. You can use the function `.LoadFile` from the GDAL Python bindings module `gdal_array` to read a raster image (e.g. in `.tif` format) into a `numpy.array`.\n",
        "\n",
        "The result is `lst_arr_training`, a list of 10,000 arrays and each array has the dimension `[13, 64, 64]`. For each of the images we want to create a `numpy.array` with ten entries indicating in binary form (0 or 1) the class the image belongs to. The resulting list is called `lst_gt_training` and has the same length as the list of training images.\n",
        "\n",
        "**NOTE**: for training purposes, the example only makes use of a subset of 10,000 images of the EuroSAT benchmark dataset(27,000 images).\n",
        "\n",
        "\n",
        "Define the folder where the EuroSAT training images are located."
      ]
    },
    {
      "cell_type": "code",
      "metadata": {
        "id": "NWlvPBWKQhQD"
      },
      "source": [
        "# MAIN_PATH = 'drive/MyDrive/Land Classification/S2_Tile_based_classification/'\n",
        "DATA_PATH = 'drive/MyDrive/Land Classification/S2_Tile_based_classification/01_Input_data/S2_tile_4_training/'"
      ],
      "execution_count": null,
      "outputs": []
    },
    {
      "cell_type": "markdown",
      "metadata": {
        "id": "b5F7sVtqRBWN"
      },
      "source": [
        "Loop over the training data folders and build up two lists:\n",
        "\n",
        "* `lst_arr_training` - List of training arrays\n",
        "* `lst_gt_training` _ List of arrays indicating to which class each image belongs to"
      ]
    },
    {
      "cell_type": "code",
      "metadata": {
        "colab": {
          "base_uri": "https://localhost:8080/"
        },
        "id": "cPzhHYgYRjp0",
        "outputId": "9d757e67-6d37-4e4b-a20c-7a28a3bd7be1"
      },
      "source": [
        "import glob\n",
        "len_data_for_training_tmp = 1000\n",
        "# folder_for_training = glob.glob(MAIN_PATH+DATA_PATH+'*/')\n",
        "folder_for_training = glob.glob(DATA_PATH+'*/')\n",
        "\n",
        "print('[AI4EO_MOOC]_log: There are %d folders' % (len(folder_for_training)))\n",
        "\n",
        "lst_arr_training=[]\n",
        "lst_gt_training = []\n",
        "for i in range(0,len(folder_for_training)):\n",
        "  data_for_training_tmp=glob.glob(folder_for_training[i]+'*.tif')\n",
        "\n",
        "  print('[AI4EO_MOOC]_log: There are %d images for %s class' % (\n",
        "      \n",
        "      len_data_for_training_tmp, folder_for_training[i][40:-1])\n",
        "      )\n",
        "  \n",
        "  for j in range(0, len_data_for_training_tmp):\n",
        "      arr_tmp = gdal_array.LoadFile(data_for_training_tmp[j])\n",
        "      lst_arr_training.append(arr_tmp)\n",
        "      tmp_gt = np.zeros(10)\n",
        "      tmp_gt[i]=1\n",
        "      lst_gt_training.append(tmp_gt)"
      ],
      "execution_count": null,
      "outputs": [
        {
          "output_type": "stream",
          "name": "stdout",
          "text": [
            "[AI4EO_MOOC]_log: There are 10 folders\n",
            "[AI4EO_MOOC]_log: There are 1000 images for e_based_classification/01_Input_data/S2_tile_4_training/River class\n",
            "[AI4EO_MOOC]_log: There are 1000 images for e_based_classification/01_Input_data/S2_tile_4_training/SeaLake class\n",
            "[AI4EO_MOOC]_log: There are 1000 images for e_based_classification/01_Input_data/S2_tile_4_training/AnnualCrop class\n",
            "[AI4EO_MOOC]_log: There are 1000 images for e_based_classification/01_Input_data/S2_tile_4_training/Forest class\n",
            "[AI4EO_MOOC]_log: There are 1000 images for e_based_classification/01_Input_data/S2_tile_4_training/HerbaceousVegetation class\n",
            "[AI4EO_MOOC]_log: There are 1000 images for e_based_classification/01_Input_data/S2_tile_4_training/Highway class\n",
            "[AI4EO_MOOC]_log: There are 1000 images for e_based_classification/01_Input_data/S2_tile_4_training/Industrial class\n",
            "[AI4EO_MOOC]_log: There are 1000 images for e_based_classification/01_Input_data/S2_tile_4_training/Pasture class\n",
            "[AI4EO_MOOC]_log: There are 1000 images for e_based_classification/01_Input_data/S2_tile_4_training/PermanentCrop class\n",
            "[AI4EO_MOOC]_log: There are 1000 images for e_based_classification/01_Input_data/S2_tile_4_training/Residential class\n"
          ]
        }
      ]
    },
    {
      "cell_type": "code",
      "metadata": {
        "colab": {
          "base_uri": "https://localhost:8080/"
        },
        "id": "ZTGiHQLMUg-q",
        "outputId": "0646bcc6-adc5-4375-b69f-841c36bc90fa"
      },
      "source": [
        "type(lst_gt_training[0])"
      ],
      "execution_count": null,
      "outputs": [
        {
          "output_type": "execute_result",
          "data": {
            "text/plain": [
              "numpy.ndarray"
            ]
          },
          "metadata": {},
          "execution_count": 11
        }
      ]
    },
    {
      "cell_type": "markdown",
      "metadata": {
        "id": "c5lcmavLjt1U"
      },
      "source": [
        "Let us inspect the length of the created lists as well as the dimensions of the images. Both lists have a length of 10,000 items and each image have the following dimension[13, 64,64]. The binary class vector has a length of 10, representing the 10 land cover classes."
      ]
    },
    {
      "cell_type": "code",
      "metadata": {
        "colab": {
          "base_uri": "https://localhost:8080/"
        },
        "id": "8-DPXIFwcHND",
        "outputId": "6e7eed5a-bef8-426e-d09a-828f827fb9d5"
      },
      "source": [
        "print(len(lst_arr_training), len(lst_gt_training))\n",
        "print(lst_arr_training[1000-1].shape, lst_gt_training[1000-1].shape)"
      ],
      "execution_count": null,
      "outputs": [
        {
          "output_type": "stream",
          "name": "stdout",
          "text": [
            "10000 10000\n",
            "(13, 64, 64) (10,)\n"
          ]
        }
      ]
    },
    {
      "cell_type": "markdown",
      "metadata": {
        "id": "COULy5n1kovI"
      },
      "source": [
        "Next, we'll transform the two lists of arrays into multistack arrays. This can be done with the numPy function `.asarray()`. The result is two numpy arrays with the following specifications:   \n",
        "* `arr_training`: 4 dimensions (10000, 13, 64, 64)-->(number of images, bands, rows, columns)\n",
        "* `arr_gt`: 2 dimensions (10000, 10)--> (number of images, columns)"
      ]
    },
    {
      "cell_type": "code",
      "metadata": {
        "colab": {
          "base_uri": "https://localhost:8080/"
        },
        "id": "aqN3NZlCkkje",
        "outputId": "cdf3511d-0886-4a69-9132-c05c5bcceea0"
      },
      "source": [
        "arr_training = np.asarray(lst_arr_training)\n",
        "arr_gt = np.asarray(lst_gt_training)\n",
        "\n",
        "arr_training.shape, arr_gt.shape"
      ],
      "execution_count": null,
      "outputs": [
        {
          "output_type": "execute_result",
          "data": {
            "text/plain": [
              "((10000, 13, 64, 64), (10000, 10))"
            ]
          },
          "metadata": {},
          "execution_count": 13
        }
      ]
    },
    {
      "cell_type": "markdown",
      "metadata": {
        "id": "xhaCTdEjl-TV"
      },
      "source": [
        "##**Reshape the multi-array's native shape to an AI readable shape**\n",
        "\n",
        "We have to reshape the array with the training images from its native shape(10000, 13,64,64) to a shape that is readable by Artificial Intelligence algorithms. For this reason, the multi-dimension array `arr_training` needs to be re-organised into the following dimensions:   \n",
        "* `arr_training_res`: 4 dimensions(10000,64,64,13)-->(number of images, rows, columns, bands)"
      ]
    },
    {
      "cell_type": "code",
      "metadata": {
        "colab": {
          "base_uri": "https://localhost:8080/"
        },
        "id": "FpxHfBGzl1f7",
        "outputId": "675dcb13-b7c4-413a-cadd-3ba01742fc50"
      },
      "source": [
        "num_of_img,bands,rows,columns=arr_training.shape\n",
        "print('[AI4EO_MOOC]_log: Reshape array from native shape (num_of_img:%d, bands:%d, rows:%d, columns:%d) to AI readable shape (num_of_img:%d, rows:%d, columns:%d, bands:%d)...' % (num_of_img,bands,rows,columns, num_of_img,rows,columns,bands))\n",
        "\n",
        "arr_training_res = np.reshape(arr_training,(num_of_img,rows,columns,bands))\n",
        "arr_training_res.shape"
      ],
      "execution_count": null,
      "outputs": [
        {
          "output_type": "stream",
          "name": "stdout",
          "text": [
            "[AI4EO_MOOC]_log: Reshape array from native shape (num_of_img:10000, bands:13, rows:64, columns:64) to AI readable shape (num_of_img:10000, rows:64, columns:64, bands:13)...\n"
          ]
        },
        {
          "output_type": "execute_result",
          "data": {
            "text/plain": [
              "(10000, 64, 64, 13)"
            ]
          },
          "metadata": {},
          "execution_count": 14
        }
      ]
    },
    {
      "cell_type": "code",
      "metadata": {
        "colab": {
          "base_uri": "https://localhost:8080/"
        },
        "id": "ElXLe1k7oLH8",
        "outputId": "fe288d4f-874e-4d33-ef61-b547543ac881"
      },
      "source": [
        "type(arr_training_res)"
      ],
      "execution_count": null,
      "outputs": [
        {
          "output_type": "execute_result",
          "data": {
            "text/plain": [
              "numpy.ndarray"
            ]
          },
          "metadata": {},
          "execution_count": 15
        }
      ]
    },
    {
      "cell_type": "markdown",
      "metadata": {
        "id": "pD44WxPToUOo"
      },
      "source": [
        "##**Normalisation of the image radiances to a [0,1] interval**\n",
        "\n",
        "As a final step, we normalize thedata and bring the data into a [0,1] range. We want to transform the data type from `uint16 - [0,65535]` to `float32`. Then we loop over each image in the numpy multi-dimensional array, we retreive the maximum value of each image with the numpy function `.amax()` and then we divide each value in the array by the maximum value."
      ]
    },
    {
      "cell_type": "code",
      "metadata": {
        "colab": {
          "base_uri": "https://localhost:8080/"
        },
        "id": "ISTo5OOHoSrV",
        "outputId": "d31f1738-d1b5-450d-c297-92ddcb81e53e"
      },
      "source": [
        "print('[AI4EO_MOOC]_log: Normalization of data into [0,1] interval...')\n",
        "arr_training_res = arr_training_res.astype('float32')\n",
        "for i in range(0, len(arr_training_res)):\n",
        "  amax_tmp=np.amax(arr_training_res[i,:,:,:])\n",
        "  arr_training_res[i,:,:,:] = arr_training_res[i,:,:,:] / amax_tmp"
      ],
      "execution_count": null,
      "outputs": [
        {
          "output_type": "stream",
          "name": "stdout",
          "text": [
            "[AI4EO_MOOC]_log: Normalization of data into [0,1] interval...\n"
          ]
        }
      ]
    },
    {
      "cell_type": "markdown",
      "metadata": {
        "id": "4WMbr-UNQZC4"
      },
      "source": [
        "Let us inspect one image from the array. Notice that the interval range is now a float number between 0 and 1."
      ]
    },
    {
      "cell_type": "code",
      "metadata": {
        "colab": {
          "base_uri": "https://localhost:8080/"
        },
        "id": "e8k6cHerOvVz",
        "outputId": "05ab7954-b63f-437e-cf03-f4faae45fff5"
      },
      "source": [
        "arr_training_res[1000-1,:,:,:]"
      ],
      "execution_count": null,
      "outputs": [
        {
          "output_type": "execute_result",
          "data": {
            "text/plain": [
              "array([[[0.3875834 , 0.3875834 , 0.3875834 , ..., 0.38874385,\n",
              "         0.38903394, 0.38932404],\n",
              "        [0.38961416, 0.3901944 , 0.39048448, ..., 0.39657673,\n",
              "         0.39773718, 0.3988976 ],\n",
              "        [0.40034813, 0.40179867, 0.4032492 , ..., 0.41746446,\n",
              "         0.4192051 , 0.42094576],\n",
              "        ...,\n",
              "        [0.3948361 , 0.3948361 , 0.3948361 , ..., 0.39454597,\n",
              "         0.39454597, 0.39454597],\n",
              "        [0.3948361 , 0.3948361 , 0.3951262 , ..., 0.40382943,\n",
              "         0.40557006, 0.40760082],\n",
              "        [0.40934145, 0.4113722 , 0.41340294, ..., 0.42181608,\n",
              "         0.42210618, 0.42239627]],\n",
              "\n",
              "       [[0.3872933 , 0.3872933 , 0.3875834 , ..., 0.3913548 ,\n",
              "         0.3916449 , 0.39193502],\n",
              "        [0.39251524, 0.39280534, 0.39338556, ..., 0.39628664,\n",
              "         0.39657673, 0.39657673],\n",
              "        [0.39657673, 0.39657673, 0.39657673, ..., 0.3959965 ,\n",
              "         0.3959965 , 0.3959965 ],\n",
              "        ...,\n",
              "        [0.4029591 , 0.4029591 , 0.4029591 , ..., 0.4029591 ,\n",
              "         0.4029591 , 0.4029591 ],\n",
              "        [0.4029591 , 0.4029591 , 0.4029591 , ..., 0.4029591 ,\n",
              "         0.4029591 , 0.4032492 ],\n",
              "        [0.4032492 , 0.4032492 , 0.4035393 , ..., 0.4029591 ,\n",
              "         0.40266898, 0.4023789 ]],\n",
              "\n",
              "       [[0.40382943, 0.40382943, 0.40382943, ..., 0.4032492 ,\n",
              "         0.4032492 , 0.4032492 ],\n",
              "        [0.4032492 , 0.4032492 , 0.4035393 , ..., 0.4032492 ,\n",
              "         0.4032492 , 0.4029591 ],\n",
              "        [0.4029591 , 0.40266898, 0.40266898, ..., 0.4029591 ,\n",
              "         0.4029591 , 0.4029591 ],\n",
              "        ...,\n",
              "        [0.40527996, 0.40586016, 0.4067305 , ..., 0.41398317,\n",
              "         0.41485348, 0.41572383],\n",
              "        [0.41630402, 0.41688424, 0.41717437, ..., 0.41862488,\n",
              "         0.41862488, 0.41862488],\n",
              "        [0.41862488, 0.41862488, 0.41833478, ..., 0.41311285,\n",
              "         0.41224253, 0.4116623 ]],\n",
              "\n",
              "       ...,\n",
              "\n",
              "       [[0.14070205, 0.14070205, 0.13606034, ..., 0.12880766,\n",
              "         0.12822744, 0.12706701],\n",
              "        [0.12561648, 0.12445605, 0.12329562, ..., 0.11981433,\n",
              "         0.11923411, 0.11807369],\n",
              "        [0.11749347, 0.11720336, 0.11633305, ..., 0.11691326,\n",
              "         0.11691326, 0.11662315],\n",
              "        ...,\n",
              "        [0.11430229, 0.11488251, 0.11604293, ..., 0.11575283,\n",
              "         0.11430229, 0.11546272],\n",
              "        [0.11807369, 0.12271541, 0.1302582 , ..., 0.29503918,\n",
              "         0.32695097, 0.35567158],\n",
              "        [0.3794604 , 0.3994778 , 0.41746446, ..., 0.5256745 ,\n",
              "         0.53495795, 0.537859  ]],\n",
              "\n",
              "       [[0.12097476, 0.12097476, 0.12039454, ..., 0.11720336,\n",
              "         0.11575283, 0.11517262],\n",
              "        [0.11575283, 0.11662315, 0.11691326, ..., 0.11604293,\n",
              "         0.11488251, 0.11430229],\n",
              "        [0.1145924 , 0.11546272, 0.11546272, ..., 0.12039454,\n",
              "         0.12416594, 0.13170873],\n",
              "        ...,\n",
              "        [0.48709023, 0.56367856, 0.62257034, ..., 0.5619379 ,\n",
              "         0.5822454 , 0.608065  ],\n",
              "        [0.63359445, 0.65564257, 0.6733391 , ..., 0.6005222 ,\n",
              "         0.5921091 , 0.58775747],\n",
              "        [0.58775747, 0.5894981 , 0.5915289 , ..., 0.58369595,\n",
              "         0.60255295, 0.6231506 ]],\n",
              "\n",
              "       [[0.12068465, 0.12068465, 0.11749347, ..., 0.11517262,\n",
              "         0.11488251, 0.1145924 ],\n",
              "        [0.1145924 , 0.11604293, 0.1183638 , ..., 0.41746446,\n",
              "         0.49927473, 0.5677401 ],\n",
              "        [0.61473745, 0.63881636, 0.64606905, ..., 0.62257034,\n",
              "         0.65129095, 0.6715985 ],\n",
              "        ...,\n",
              "        [0.6301131 , 0.589208  , 0.57122135, ..., 0.6425878 ,\n",
              "         0.6370757 , 0.63388455],\n",
              "        [0.64868003, 0.68523353, 0.7365825 , ..., 0.7856107 ,\n",
              "         0.76211196, 0.75776035],\n",
              "        [0.77429646, 0.8018567 , 0.8236147 , ..., 0.55149406,\n",
              "         0.60226285, 0.65361184]]], dtype=float32)"
            ]
          },
          "metadata": {},
          "execution_count": 17
        }
      ]
    },
    {
      "cell_type": "markdown",
      "metadata": {
        "id": "h0gubL7dRDfz"
      },
      "source": [
        "# **2. Create training and test subsets from input data**\n",
        "\n",
        "We'll randomly split the training data into a `training subset` and a `testing subset`. Scikit-learn offers a popular function called `train-test-split()`, which creates 4 subsets based on the input and output variables `X - arr_training_res` and `y - arr_gt`. The function takes the following kwargs.\n",
        "* `arrays`: input and output data arrays\n",
        "* `test_size`: a float number representing the proportion of the input dataset to include in the test subset\n",
        "* `random_state`: An integer assuring reproducibility of the random shuffling of the data\n",
        "\n",
        "We'll use 85% of the input data for training and 15% for testing."
      ]
    },
    {
      "cell_type": "code",
      "metadata": {
        "colab": {
          "base_uri": "https://localhost:8080/"
        },
        "id": "AB7vhItcQw02",
        "outputId": "3a9fdf35-24d7-4d65-dbdd-74285cf14339"
      },
      "source": [
        "test_size=0.15\n",
        "print('[AI4EO_MOOC]_log: Training (%0.2f %%) and validation (%0.2f %%) split..' % (\n",
        "      (1-test_size)*100,(test_size)*100))\n",
        "\n",
        "X_train, X_test, y_train, y_test = train_test_split(\n",
        "        arr_training_res,\n",
        "        arr_gt,\n",
        "        test_size=test_size,\n",
        "        random_state=42)"
      ],
      "execution_count": null,
      "outputs": [
        {
          "output_type": "stream",
          "name": "stdout",
          "text": [
            "[AI4EO_MOOC]_log: Training (85.00 %) and validation (15.00 %) split..\n"
          ]
        }
      ]
    },
    {
      "cell_type": "markdown",
      "metadata": {
        "id": "AjczIXyaTzuQ"
      },
      "source": [
        "# **3. Define the Convolutional Neural Network architecture**\n",
        "\n",
        "As our first step, we'll initiate a `sequential neural network` model with the Keras class `keras.Sequential()`."
      ]
    },
    {
      "cell_type": "code",
      "metadata": {
        "id": "G4MBqhs0ULzj",
        "colab": {
          "base_uri": "https://localhost:8080/"
        },
        "outputId": "a253ad1f-d31c-48b7-b509-d89ac4a87515"
      },
      "source": [
        "_, num_classes = y_train.shape\n",
        "print('[AI4EO_MOOC]_log: Convolutional Neural Network architecture:')\n",
        "model = keras.Sequential()"
      ],
      "execution_count": null,
      "outputs": [
        {
          "output_type": "stream",
          "name": "stdout",
          "text": [
            "[AI4EO_MOOC]_log: Convolutional Neural Network architecture:\n"
          ]
        }
      ]
    },
    {
      "cell_type": "markdown",
      "metadata": {
        "id": "CQnyt479iNG8"
      },
      "source": [
        "The next step is to build up the architecture of the `Convolution Neural Network (CNN)`, with the function `model.add()`. A `CNN` composes of the following set of layers:\n",
        "\n",
        "* `Conv2D`: Convolutional layer with number of filters, e.g. 32 or 64, the shape of thje filter ((3,3), (5,5),...) and the application of padding\n",
        "* `Activation`: Activation layer, e.g. `relu`, `sigmoid`, ...\n",
        "* `Maxpooling2D`: Max Pooling layer with shape (2,2), (3,3), ...\n",
        "* `Dropout`: to reduce overfitting\n",
        "\n",
        "In the following code block, we build three blocks of layers:\n",
        "\n",
        "* **First block of layers**\n",
        "The first block of layers consist of two `Conv2D` layers with 32 neurons and we add non-linear properties by adding an `Activation` layer in between. We then define a `MaxPooling2D` layer, which downsamples the input by taking the maximum value of a given window size. The block of layers finishes with `Dropout` layer, which randomly skips 25% of the interconnections.\n",
        "\n",
        "* **Second block of layers**\n",
        "The second block of layers consists of two `Conv2D` layers, but with 64 neurons and we add non-linear properties by adding an `Activation` layer in between. We then define a `MaxPooling2D` layer, which downsamples the input by taking the maximum value of a given window size. The block of layers finishes with a  `Dropout` layer, which randomly skips 25% of the interconnections.\n",
        "\n",
        "* **Third block of layers**\n",
        "The third block consists of two `Dense` layers, which are fully-connected layers. In between, we again add non-linear properties by adding an `Activation` layer. The number of neurons of the final 'Dense` layer has to be the same as the number of land use classes, in this case 10."
      ]
    },
    {
      "cell_type": "code",
      "metadata": {
        "id": "UNZhkwRLmPI8"
      },
      "source": [
        "model.add(Conv2D(32, (3, 3), padding='same', input_shape=X_train.shape[1:]))\n",
        "model.add(Activation('relu'))\n",
        "model.add(Conv2D(32, (3, 3)))\n",
        "model.add(Activation('relu'))\n",
        "model.add(MaxPooling2D(pool_size=(2, 2)))\n",
        "model.add(Dropout(0.25))\n",
        "\n",
        "\n",
        "model.add(Conv2D(64, (3, 3), padding='same'))\n",
        "model.add(Activation('relu'))\n",
        "model.add(Conv2D(64, (3, 3)))\n",
        "model.add(Activation('relu'))\n",
        "model.add(MaxPooling2D(pool_size=(2, 2)))\n",
        "model.add(Dropout(0.25))\n",
        "\n",
        "model.add(Flatten())\n",
        "model.add(Dense(512))\n",
        "model.add(Activation('relu'))\n",
        "model.add(Dropout(0.5))\n",
        "model.add(Dense(num_classes))\n",
        "model.add(Activation('softmax'))"
      ],
      "execution_count": null,
      "outputs": []
    },
    {
      "cell_type": "markdown",
      "metadata": {
        "id": "uGAFthPApDpK"
      },
      "source": [
        "After the model architecture has been defined you can compile(configure) the model with `model.compile()` and define the following hyperparameters:\n",
        "\n",
        "* `loss='categorical_crossentropy'`- Categorical crossentropy is one of many loss options and calculates the crossentropy loss between the labels and the predictions\n",
        "* `optimizer=RMSprop(lr=0.0001, decay=1e-6)`- Optimizers are algorithms the network learns from\n",
        "* `metrics=['accuracy']`- is used to evaluate how the model is performing"
      ]
    },
    {
      "cell_type": "code",
      "metadata": {
        "colab": {
          "base_uri": "https://localhost:8080/"
        },
        "id": "TLS4oUxNn0Yy",
        "outputId": "5fc230ba-423b-440a-fbb8-c17417a50ee9"
      },
      "source": [
        "opt = keras.optimizers.RMSprop(lr=0.0001, decay=1e-6)\n",
        "\n",
        "model.compile(loss='categorical_crossentropy',\n",
        "              optimizer=opt,\n",
        "              metrics=['accuracy'])"
      ],
      "execution_count": null,
      "outputs": [
        {
          "output_type": "stream",
          "name": "stderr",
          "text": [
            "/usr/local/lib/python3.7/dist-packages/keras/optimizer_v2/rmsprop.py:130: UserWarning: The `lr` argument is deprecated, use `learning_rate` instead.\n",
            "  super(RMSprop, self).__init__(name, **kwargs)\n"
          ]
        }
      ]
    },
    {
      "cell_type": "markdown",
      "metadata": {
        "id": "WSWECAheqqgv"
      },
      "source": [
        "The function `model.summary()` provides you a tabular summary of the `CNN architecture`, which is helpful for seeing what the output shape of the model looks like after each operation."
      ]
    },
    {
      "cell_type": "code",
      "metadata": {
        "colab": {
          "base_uri": "https://localhost:8080/"
        },
        "id": "SAdMW9brzno6",
        "outputId": "35516c88-c460-493b-9c6f-c5ad3f579735"
      },
      "source": [
        "model.summary()"
      ],
      "execution_count": null,
      "outputs": [
        {
          "output_type": "stream",
          "name": "stdout",
          "text": [
            "Model: \"sequential\"\n",
            "_________________________________________________________________\n",
            " Layer (type)                Output Shape              Param #   \n",
            "=================================================================\n",
            " conv2d (Conv2D)             (None, 64, 64, 32)        3776      \n",
            "                                                                 \n",
            " activation (Activation)     (None, 64, 64, 32)        0         \n",
            "                                                                 \n",
            " conv2d_1 (Conv2D)           (None, 62, 62, 32)        9248      \n",
            "                                                                 \n",
            " activation_1 (Activation)   (None, 62, 62, 32)        0         \n",
            "                                                                 \n",
            " max_pooling2d (MaxPooling2D  (None, 31, 31, 32)       0         \n",
            " )                                                               \n",
            "                                                                 \n",
            " dropout (Dropout)           (None, 31, 31, 32)        0         \n",
            "                                                                 \n",
            " conv2d_2 (Conv2D)           (None, 31, 31, 64)        18496     \n",
            "                                                                 \n",
            " activation_2 (Activation)   (None, 31, 31, 64)        0         \n",
            "                                                                 \n",
            " conv2d_3 (Conv2D)           (None, 29, 29, 64)        36928     \n",
            "                                                                 \n",
            " activation_3 (Activation)   (None, 29, 29, 64)        0         \n",
            "                                                                 \n",
            " max_pooling2d_1 (MaxPooling  (None, 14, 14, 64)       0         \n",
            " 2D)                                                             \n",
            "                                                                 \n",
            " dropout_1 (Dropout)         (None, 14, 14, 64)        0         \n",
            "                                                                 \n",
            " flatten (Flatten)           (None, 12544)             0         \n",
            "                                                                 \n",
            " dense (Dense)               (None, 512)               6423040   \n",
            "                                                                 \n",
            " activation_4 (Activation)   (None, 512)               0         \n",
            "                                                                 \n",
            " dropout_2 (Dropout)         (None, 512)               0         \n",
            "                                                                 \n",
            " dense_1 (Dense)             (None, 10)                5130      \n",
            "                                                                 \n",
            " activation_5 (Activation)   (None, 10)                0         \n",
            "                                                                 \n",
            "=================================================================\n",
            "Total params: 6,496,618\n",
            "Trainable params: 6,496,618\n",
            "Non-trainable params: 0\n",
            "_________________________________________________________________\n"
          ]
        }
      ]
    },
    {
      "cell_type": "markdown",
      "metadata": {
        "id": "zUeKZSuPHbBd"
      },
      "source": [
        "#**4. Fitting (training) of the convolutional neural network**\n",
        "\n",
        "The next step in the training process is the actual training (fitting) of the model.\n",
        "\n",
        "We'll set a folder path to which the model with the best validation accuracy is saved to. The pre-trained model is saved in the folder `02_pretrained_model`."
      ]
    },
    {
      "cell_type": "code",
      "metadata": {
        "colab": {
          "base_uri": "https://localhost:8080/",
          "height": 52
        },
        "id": "sjmNyISLzukg",
        "outputId": "36286efe-5e48-494a-8b90-bd4e31205a2e"
      },
      "source": [
        "save_dir = 'drive/MyDrive/Land Classification/S2_Tile_based_classification/02_pretrained_model/'\n",
        "model_name = 'keras_sentinel2_classification_trained_model_e50.json'\n",
        "\n",
        "filepath_tmp = save_dir+model_name\n",
        "filepath_tmp"
      ],
      "execution_count": null,
      "outputs": [
        {
          "output_type": "execute_result",
          "data": {
            "application/vnd.google.colaboratory.intrinsic+json": {
              "type": "string"
            },
            "text/plain": [
              "'drive/MyDrive/Land Classification/S2_Tile_based_classification/02_pretrained_model/keras_sentinel2_classification_trained_model_e50.json'"
            ]
          },
          "metadata": {},
          "execution_count": 23
        }
      ]
    },
    {
      "cell_type": "markdown",
      "metadata": {
        "id": "iA5853KGJjPk"
      },
      "source": [
        "`Callbacks` are utilitiesthat are called at certain points during model training. They can support us in better understanding the performance of our model during training. One useful callback is *ModelCheckpoint*, which allows us to save the Keras model after training. With class `ModelCheckpoint` we can define the type of information we would like to save.\n",
        "\n",
        "The following code saves only the model with the best `validation accuracy`."
      ]
    },
    {
      "cell_type": "code",
      "metadata": {
        "id": "UFMqge5mJfX8"
      },
      "source": [
        "checkpoint = ModelCheckpoint(\n",
        "    filepath_tmp,\n",
        "    'val_accuracy',\n",
        "    verbose=1,\n",
        "    save_best_only=True,\n",
        "    mode='max')\n",
        "callbacks_list = [checkpoint]"
      ],
      "execution_count": null,
      "outputs": []
    },
    {
      "cell_type": "markdown",
      "metadata": {
        "id": "FvMTyXSLOjj7"
      },
      "source": [
        "The final step is to train (fit) the Keras model. We can use `model.fit()` to fit the model based on the training dataset. The resulting object is a `history` object and a common practise is to call the output of the training process `history`.\n",
        "\n",
        "The function `model.fit()` requires us to to specify the following parameters:\n",
        "* `input (X)` and `output (y)` data: here we specify the input and output data of our model\n",
        "* `validation_data`: here we enter the test data subsets X_test and y_test and our model outputs are validated against these validation data for each epoch (training cycle)\n",
        "* `epochs`: number of training cycles\n",
        "* `batch_size`: defines the size of the training data subsets (eg. 32 samples) after which the weights of the network are updated\n",
        "* `callbacks`: define the callbacks we would like to make use of during the training process\n",
        "* `verbose`: specify how the progress of the training shall be shown - option 0,1,2 - option 1 for e.g. shows us a progress bar for each epoch                          "
      ]
    },
    {
      "cell_type": "code",
      "metadata": {
        "colab": {
          "base_uri": "https://localhost:8080/"
        },
        "id": "TmzqhUCuLTka",
        "outputId": "7ceddbf4-6538-4f31-c167-30ab2a572f25"
      },
      "source": [
        "batch_size = 32\n",
        "epochs = 10\n",
        "\n",
        "history = model.fit(X_train, y_train,\n",
        "                    epochs=epochs,\n",
        "                    batch_size=batch_size,\n",
        "                    validation_data=(X_test, y_test),\n",
        "                    callbacks=callbacks_list,\n",
        "                    verbose = 1)"
      ],
      "execution_count": null,
      "outputs": [
        {
          "output_type": "stream",
          "name": "stdout",
          "text": [
            "Epoch 1/10\n",
            "266/266 [==============================] - ETA: 0s - loss: 1.4484 - accuracy: 0.4652\n",
            "Epoch 00001: val_accuracy improved from -inf to 0.65067, saving model to drive/MyDrive/Land Classification/S2_Tile_based_classification/02_pretrained_model/keras_sentinel2_classification_trained_model_e50.json\n",
            "INFO:tensorflow:Assets written to: drive/MyDrive/Land Classification/S2_Tile_based_classification/02_pretrained_model/keras_sentinel2_classification_trained_model_e50.json/assets\n",
            "266/266 [==============================] - 193s 719ms/step - loss: 1.4484 - accuracy: 0.4652 - val_loss: 1.0636 - val_accuracy: 0.6507\n",
            "Epoch 2/10\n",
            "266/266 [==============================] - ETA: 0s - loss: 1.0394 - accuracy: 0.6199\n",
            "Epoch 00002: val_accuracy improved from 0.65067 to 0.68733, saving model to drive/MyDrive/Land Classification/S2_Tile_based_classification/02_pretrained_model/keras_sentinel2_classification_trained_model_e50.json\n",
            "INFO:tensorflow:Assets written to: drive/MyDrive/Land Classification/S2_Tile_based_classification/02_pretrained_model/keras_sentinel2_classification_trained_model_e50.json/assets\n",
            "266/266 [==============================] - 190s 715ms/step - loss: 1.0394 - accuracy: 0.6199 - val_loss: 0.9040 - val_accuracy: 0.6873\n",
            "Epoch 3/10\n",
            "266/266 [==============================] - ETA: 0s - loss: 0.8724 - accuracy: 0.6815\n",
            "Epoch 00003: val_accuracy improved from 0.68733 to 0.75133, saving model to drive/MyDrive/Land Classification/S2_Tile_based_classification/02_pretrained_model/keras_sentinel2_classification_trained_model_e50.json\n",
            "INFO:tensorflow:Assets written to: drive/MyDrive/Land Classification/S2_Tile_based_classification/02_pretrained_model/keras_sentinel2_classification_trained_model_e50.json/assets\n",
            "266/266 [==============================] - 189s 710ms/step - loss: 0.8724 - accuracy: 0.6815 - val_loss: 0.7262 - val_accuracy: 0.7513\n",
            "Epoch 4/10\n",
            "266/266 [==============================] - ETA: 0s - loss: 0.7819 - accuracy: 0.7216\n",
            "Epoch 00004: val_accuracy did not improve from 0.75133\n",
            "266/266 [==============================] - 187s 704ms/step - loss: 0.7819 - accuracy: 0.7216 - val_loss: 0.7432 - val_accuracy: 0.7327\n",
            "Epoch 5/10\n",
            "266/266 [==============================] - ETA: 0s - loss: 0.7054 - accuracy: 0.7534\n",
            "Epoch 00005: val_accuracy did not improve from 0.75133\n",
            "266/266 [==============================] - 187s 703ms/step - loss: 0.7054 - accuracy: 0.7534 - val_loss: 0.7105 - val_accuracy: 0.7400\n",
            "Epoch 6/10\n",
            "266/266 [==============================] - ETA: 0s - loss: 0.6615 - accuracy: 0.7667\n",
            "Epoch 00006: val_accuracy improved from 0.75133 to 0.81467, saving model to drive/MyDrive/Land Classification/S2_Tile_based_classification/02_pretrained_model/keras_sentinel2_classification_trained_model_e50.json\n",
            "INFO:tensorflow:Assets written to: drive/MyDrive/Land Classification/S2_Tile_based_classification/02_pretrained_model/keras_sentinel2_classification_trained_model_e50.json/assets\n",
            "266/266 [==============================] - 189s 709ms/step - loss: 0.6615 - accuracy: 0.7667 - val_loss: 0.5593 - val_accuracy: 0.8147\n",
            "Epoch 7/10\n",
            "266/266 [==============================] - ETA: 0s - loss: 0.6204 - accuracy: 0.7792\n",
            "Epoch 00007: val_accuracy did not improve from 0.81467\n",
            "266/266 [==============================] - 187s 701ms/step - loss: 0.6204 - accuracy: 0.7792 - val_loss: 0.5305 - val_accuracy: 0.8120\n",
            "Epoch 8/10\n",
            "266/266 [==============================] - ETA: 0s - loss: 0.5757 - accuracy: 0.7960\n",
            "Epoch 00008: val_accuracy improved from 0.81467 to 0.82933, saving model to drive/MyDrive/Land Classification/S2_Tile_based_classification/02_pretrained_model/keras_sentinel2_classification_trained_model_e50.json\n",
            "INFO:tensorflow:Assets written to: drive/MyDrive/Land Classification/S2_Tile_based_classification/02_pretrained_model/keras_sentinel2_classification_trained_model_e50.json/assets\n",
            "266/266 [==============================] - 189s 711ms/step - loss: 0.5757 - accuracy: 0.7960 - val_loss: 0.5298 - val_accuracy: 0.8293\n",
            "Epoch 9/10\n",
            "266/266 [==============================] - ETA: 0s - loss: 0.5456 - accuracy: 0.8114\n",
            "Epoch 00009: val_accuracy did not improve from 0.82933\n",
            "266/266 [==============================] - 188s 705ms/step - loss: 0.5456 - accuracy: 0.8114 - val_loss: 0.5333 - val_accuracy: 0.8073\n",
            "Epoch 10/10\n",
            "266/266 [==============================] - ETA: 0s - loss: 0.5225 - accuracy: 0.8174\n",
            "Epoch 00010: val_accuracy improved from 0.82933 to 0.83200, saving model to drive/MyDrive/Land Classification/S2_Tile_based_classification/02_pretrained_model/keras_sentinel2_classification_trained_model_e50.json\n",
            "INFO:tensorflow:Assets written to: drive/MyDrive/Land Classification/S2_Tile_based_classification/02_pretrained_model/keras_sentinel2_classification_trained_model_e50.json/assets\n",
            "266/266 [==============================] - 188s 707ms/step - loss: 0.5225 - accuracy: 0.8174 - val_loss: 0.4991 - val_accuracy: 0.8320\n"
          ]
        }
      ]
    },
    {
      "cell_type": "markdown",
      "metadata": {
        "id": "uhM2OOUZDoaN"
      },
      "source": [
        "#**5. Evaluate the performance of the CNN model with a confusion matrix**\n",
        "\n",
        "The final step is to evaluate the performance of our model and the model's ability to classify landcover / land use with the help of the test data. With the function `model.predict()`, we can classify the test input data `(X_test)`. The result `y_pred` is an array with the dimension `(1500, 10)`. For each input image of the test data, the prediction provides a vector which holds for each class the probability of the class."
      ]
    },
    {
      "cell_type": "code",
      "metadata": {
        "colab": {
          "base_uri": "https://localhost:8080/"
        },
        "id": "Vs3umb9WRiwr",
        "outputId": "577f8be0-d121-4c4c-e478-dbd4543d8631"
      },
      "source": [
        "y_pred = model.predict(X_test)\n",
        "y_pred.shape"
      ],
      "execution_count": null,
      "outputs": [
        {
          "output_type": "execute_result",
          "data": {
            "text/plain": [
              "(1500, 10)"
            ]
          },
          "metadata": {},
          "execution_count": 26
        }
      ]
    },
    {
      "cell_type": "markdown",
      "metadata": {
        "id": "EqbGlMgbE-FO"
      },
      "source": [
        "The final classification result is the class with the highest probability. The objective is to have a vector with the same length as the number of test images, which provides for each image the final predicted class. To achieve this, we have to loop over the predicted `(y_pred)` and test `(y_test)` output arrays and retrieve the index of the argument with the maximum value. We can retrieve the index of the argument with the maximum value with numpy's function `np.argmax()`.\n",
        "\n",
        "The result are two one dimensional arrays, `y_pred_amax` and `y_test_amax`, providing the index of the land cover class for each image."
      ]
    },
    {
      "cell_type": "code",
      "metadata": {
        "colab": {
          "base_uri": "https://localhost:8080/"
        },
        "id": "t2pHYhdNE5aA",
        "outputId": "6cb1da1e-2cba-40df-a772-59ff7f58bdf9"
      },
      "source": [
        "y_pred_amax=np.zeros((len(y_pred)))\n",
        "y_test_amax=np.zeros((len(y_pred)))\n",
        "\n",
        "for i in range(0,len(y_pred)):\n",
        "    y_pred_amax[i]=np.argmax(y_pred[i,:])\n",
        "    y_test_amax[i]=np.argmax(y_test[i,:])\n",
        "\n",
        "y_test_amax, y_pred_amax"
      ],
      "execution_count": null,
      "outputs": [
        {
          "output_type": "execute_result",
          "data": {
            "text/plain": [
              "(array([6., 4., 1., ..., 6., 6., 3.]), array([6., 4., 1., ..., 6., 6., 3.]))"
            ]
          },
          "metadata": {},
          "execution_count": 27
        }
      ]
    },
    {
      "cell_type": "markdown",
      "metadata": {
        "id": "FoBSfrY_Ii3F"
      },
      "source": [
        "###**Create a confusion matrix**\n",
        "\n",
        "Classification accuracy alone can often be misleading, esp. if you have an unequal number of observations in each class or if you have more than two classes in your dataset. A confusion matrix can give you a better idea of what your model is getting right and what type of errors it is making. A `confusion matrix` is also known as an error matrix and is a common technique for summerizing the performance of a classification algorithm.\n",
        "\n",
        "The metrics class of the scikit-learn package offers the function `confusion_matrix`, which computes the confusion matrix between the actual (`y_test_amax`) and predicted class (`y_pred_amax`). The result is a matrix which ummerizes the number of correct and incorrect predictions with count values broken down by each class. The rows indicate the actual class and the columns indicate the predicted class."
      ]
    },
    {
      "cell_type": "code",
      "metadata": {
        "colab": {
          "base_uri": "https://localhost:8080/"
        },
        "id": "S4g0E5fWHZ75",
        "outputId": "9d026f1d-c6f6-4fcf-a3ff-dde08b2b792c"
      },
      "source": [
        "matrix = metrics.confusion_matrix(y_test_amax, y_pred_amax)\n",
        "matrix"
      ],
      "execution_count": null,
      "outputs": [
        {
          "output_type": "execute_result",
          "data": {
            "text/plain": [
              "array([[139,   4,   2,   0,   4,   8,   0,   3,   0,   1],\n",
              "       [  1, 150,   0,   0,   0,   0,   0,   0,   0,   0],\n",
              "       [  0,   0, 121,   0,   3,   0,   0,   6,  10,   0],\n",
              "       [  0,   0,   1, 143,   1,   0,   0,   4,   0,   0],\n",
              "       [  4,   0,   0,   1, 131,   1,   0,  10,   9,   0],\n",
              "       [  2,   1,  15,   1,  11,  61,   2,  10,  16,  20],\n",
              "       [  0,   0,   0,   0,   1,   1, 124,   0,   0,  27],\n",
              "       [  0,   0,   4,  12,  10,   0,   0, 122,   6,   1],\n",
              "       [  0,   0,   5,   0,  14,   3,   0,   4, 138,   3],\n",
              "       [  0,   0,   0,   0,   2,   1,   2,   1,   4, 119]])"
            ]
          },
          "metadata": {},
          "execution_count": 28
        }
      ]
    },
    {
      "cell_type": "markdown",
      "metadata": {
        "id": "7apgYNApLbM8"
      },
      "source": [
        "Let's convert the matrix into a `pandas.dataframe` and add class labelks to the rows and columns.  This helps better interpret the results."
      ]
    },
    {
      "cell_type": "code",
      "metadata": {
        "colab": {
          "base_uri": "https://localhost:8080/",
          "height": 396
        },
        "id": "Rvnm0OceK2MD",
        "outputId": "ed1ffc57-62fe-4fb3-ed5f-d12583cc8c50"
      },
      "source": [
        "label_str=[\n",
        "    'Annual Crop',\n",
        "    'Forest',\n",
        "    'HerbaceousVegetation',\n",
        "    'Highway',\n",
        "    'Industrial',\n",
        "    'Pasture',\n",
        "    'PermanentCrop',\n",
        "    'Residential',\n",
        "    'River',\n",
        "    'SeaLake' ]\n",
        "\n",
        "con_mat_df = pd.DataFrame(matrix,\n",
        "                                index = label_str,\n",
        "                                columns = label_str)\n",
        "con_mat_df"
      ],
      "execution_count": null,
      "outputs": [
        {
          "output_type": "execute_result",
          "data": {
            "text/html": [
              "<div>\n",
              "<style scoped>\n",
              "    .dataframe tbody tr th:only-of-type {\n",
              "        vertical-align: middle;\n",
              "    }\n",
              "\n",
              "    .dataframe tbody tr th {\n",
              "        vertical-align: top;\n",
              "    }\n",
              "\n",
              "    .dataframe thead th {\n",
              "        text-align: right;\n",
              "    }\n",
              "</style>\n",
              "<table border=\"1\" class=\"dataframe\">\n",
              "  <thead>\n",
              "    <tr style=\"text-align: right;\">\n",
              "      <th></th>\n",
              "      <th>Annual Crop</th>\n",
              "      <th>Forest</th>\n",
              "      <th>HerbaceousVegetation</th>\n",
              "      <th>Highway</th>\n",
              "      <th>Industrial</th>\n",
              "      <th>Pasture</th>\n",
              "      <th>PermanentCrop</th>\n",
              "      <th>Residential</th>\n",
              "      <th>River</th>\n",
              "      <th>SeaLake</th>\n",
              "    </tr>\n",
              "  </thead>\n",
              "  <tbody>\n",
              "    <tr>\n",
              "      <th>Annual Crop</th>\n",
              "      <td>139</td>\n",
              "      <td>4</td>\n",
              "      <td>2</td>\n",
              "      <td>0</td>\n",
              "      <td>4</td>\n",
              "      <td>8</td>\n",
              "      <td>0</td>\n",
              "      <td>3</td>\n",
              "      <td>0</td>\n",
              "      <td>1</td>\n",
              "    </tr>\n",
              "    <tr>\n",
              "      <th>Forest</th>\n",
              "      <td>1</td>\n",
              "      <td>150</td>\n",
              "      <td>0</td>\n",
              "      <td>0</td>\n",
              "      <td>0</td>\n",
              "      <td>0</td>\n",
              "      <td>0</td>\n",
              "      <td>0</td>\n",
              "      <td>0</td>\n",
              "      <td>0</td>\n",
              "    </tr>\n",
              "    <tr>\n",
              "      <th>HerbaceousVegetation</th>\n",
              "      <td>0</td>\n",
              "      <td>0</td>\n",
              "      <td>121</td>\n",
              "      <td>0</td>\n",
              "      <td>3</td>\n",
              "      <td>0</td>\n",
              "      <td>0</td>\n",
              "      <td>6</td>\n",
              "      <td>10</td>\n",
              "      <td>0</td>\n",
              "    </tr>\n",
              "    <tr>\n",
              "      <th>Highway</th>\n",
              "      <td>0</td>\n",
              "      <td>0</td>\n",
              "      <td>1</td>\n",
              "      <td>143</td>\n",
              "      <td>1</td>\n",
              "      <td>0</td>\n",
              "      <td>0</td>\n",
              "      <td>4</td>\n",
              "      <td>0</td>\n",
              "      <td>0</td>\n",
              "    </tr>\n",
              "    <tr>\n",
              "      <th>Industrial</th>\n",
              "      <td>4</td>\n",
              "      <td>0</td>\n",
              "      <td>0</td>\n",
              "      <td>1</td>\n",
              "      <td>131</td>\n",
              "      <td>1</td>\n",
              "      <td>0</td>\n",
              "      <td>10</td>\n",
              "      <td>9</td>\n",
              "      <td>0</td>\n",
              "    </tr>\n",
              "    <tr>\n",
              "      <th>Pasture</th>\n",
              "      <td>2</td>\n",
              "      <td>1</td>\n",
              "      <td>15</td>\n",
              "      <td>1</td>\n",
              "      <td>11</td>\n",
              "      <td>61</td>\n",
              "      <td>2</td>\n",
              "      <td>10</td>\n",
              "      <td>16</td>\n",
              "      <td>20</td>\n",
              "    </tr>\n",
              "    <tr>\n",
              "      <th>PermanentCrop</th>\n",
              "      <td>0</td>\n",
              "      <td>0</td>\n",
              "      <td>0</td>\n",
              "      <td>0</td>\n",
              "      <td>1</td>\n",
              "      <td>1</td>\n",
              "      <td>124</td>\n",
              "      <td>0</td>\n",
              "      <td>0</td>\n",
              "      <td>27</td>\n",
              "    </tr>\n",
              "    <tr>\n",
              "      <th>Residential</th>\n",
              "      <td>0</td>\n",
              "      <td>0</td>\n",
              "      <td>4</td>\n",
              "      <td>12</td>\n",
              "      <td>10</td>\n",
              "      <td>0</td>\n",
              "      <td>0</td>\n",
              "      <td>122</td>\n",
              "      <td>6</td>\n",
              "      <td>1</td>\n",
              "    </tr>\n",
              "    <tr>\n",
              "      <th>River</th>\n",
              "      <td>0</td>\n",
              "      <td>0</td>\n",
              "      <td>5</td>\n",
              "      <td>0</td>\n",
              "      <td>14</td>\n",
              "      <td>3</td>\n",
              "      <td>0</td>\n",
              "      <td>4</td>\n",
              "      <td>138</td>\n",
              "      <td>3</td>\n",
              "    </tr>\n",
              "    <tr>\n",
              "      <th>SeaLake</th>\n",
              "      <td>0</td>\n",
              "      <td>0</td>\n",
              "      <td>0</td>\n",
              "      <td>0</td>\n",
              "      <td>2</td>\n",
              "      <td>1</td>\n",
              "      <td>2</td>\n",
              "      <td>1</td>\n",
              "      <td>4</td>\n",
              "      <td>119</td>\n",
              "    </tr>\n",
              "  </tbody>\n",
              "</table>\n",
              "</div>"
            ],
            "text/plain": [
              "                      Annual Crop  Forest  ...  River  SeaLake\n",
              "Annual Crop                   139       4  ...      0        1\n",
              "Forest                          1     150  ...      0        0\n",
              "HerbaceousVegetation            0       0  ...     10        0\n",
              "Highway                         0       0  ...      0        0\n",
              "Industrial                      4       0  ...      9        0\n",
              "Pasture                         2       1  ...     16       20\n",
              "PermanentCrop                   0       0  ...      0       27\n",
              "Residential                     0       0  ...      6        1\n",
              "River                           0       0  ...    138        3\n",
              "SeaLake                         0       0  ...      4      119\n",
              "\n",
              "[10 rows x 10 columns]"
            ]
          },
          "metadata": {},
          "execution_count": 29
        }
      ]
    },
    {
      "cell_type": "markdown",
      "metadata": {
        "id": "7YEcVx4LM-b-"
      },
      "source": [
        "Now we can use the `heatmap()` function of the seaborn library to visualize the confusion matrix. This gives us a more visual picture of the classification of the model."
      ]
    },
    {
      "cell_type": "code",
      "metadata": {
        "colab": {
          "base_uri": "https://localhost:8080/",
          "height": 737
        },
        "id": "vYyR4BJ3Mkdj",
        "outputId": "ab2b864d-dcfb-4eac-9e57-95423a0ae3f2"
      },
      "source": [
        "import matplotlib.pyplot as plt\n",
        "\n",
        "plt.figure(figsize=(10, 10))\n",
        "sns.heatmap(con_mat_df,\n",
        "            annot=True,\n",
        "            fmt='d',\n",
        "            cmap=plt.cm.Blues)\n",
        "plt.tight_layout()\n",
        "plt.ylabel('True label')\n",
        "plt.xlabel('Predicted label')\n",
        "plt.show()"
      ],
      "execution_count": null,
      "outputs": [
        {
          "output_type": "display_data",
          "data": {
            "image/png": "[encoded data removed]",
            "text/plain": [
              "<Figure size 720x720 with 2 Axes>"
            ]
          },
          "metadata": {
            "needs_background": "light"
          }
        }
      ]
    },
    {
      "cell_type": "markdown",
      "metadata": {
        "id": "A-DhvbJr2p-H"
      },
      "source": [
        "Alternatively, we can also normalize the confusion matrix. This makes it easier to interpret how the classes are predicted by the model. We can create the `normalized confusion matrix` also with the function `confusion_matrix` from scikit-learn's `metrics` class, but we have to set the keyword argument `normalize` to true."
      ]
    },
    {
      "cell_type": "code",
      "metadata": {
        "id": "xqxSmy9wN_Y1"
      },
      "source": [
        "from sklearn import metrics\n",
        "matrix_norm = metrics.confusion_matrix(y_test_amax, y_pred_amax, normalize='true')\n",
        "\n",
        "matrix_norm = np.around(matrix_norm,decimals=2)"
      ],
      "execution_count": null,
      "outputs": []
    },
    {
      "cell_type": "markdown",
      "metadata": {
        "id": "oAIuk5LO3pNo"
      },
      "source": [
        "Now, we can also transform the normalized matrix to a pandas dataframe. We'll notice that the matrix now represents relative frequencies per row."
      ]
    },
    {
      "cell_type": "code",
      "metadata": {
        "colab": {
          "base_uri": "https://localhost:8080/",
          "height": 396
        },
        "id": "_6rf9lJI4BYB",
        "outputId": "595112c4-0584-4b1a-8c95-969342f0c40f"
      },
      "source": [
        "con_mat_df_norm = pd.DataFrame(matrix_norm,\n",
        "                               index = label_str,\n",
        "                               columns = label_str)\n",
        "con_mat_df_norm"
      ],
      "execution_count": null,
      "outputs": [
        {
          "output_type": "execute_result",
          "data": {
            "text/html": [
              "<div>\n",
              "<style scoped>\n",
              "    .dataframe tbody tr th:only-of-type {\n",
              "        vertical-align: middle;\n",
              "    }\n",
              "\n",
              "    .dataframe tbody tr th {\n",
              "        vertical-align: top;\n",
              "    }\n",
              "\n",
              "    .dataframe thead th {\n",
              "        text-align: right;\n",
              "    }\n",
              "</style>\n",
              "<table border=\"1\" class=\"dataframe\">\n",
              "  <thead>\n",
              "    <tr style=\"text-align: right;\">\n",
              "      <th></th>\n",
              "      <th>Annual Crop</th>\n",
              "      <th>Forest</th>\n",
              "      <th>HerbaceousVegetation</th>\n",
              "      <th>Highway</th>\n",
              "      <th>Industrial</th>\n",
              "      <th>Pasture</th>\n",
              "      <th>PermanentCrop</th>\n",
              "      <th>Residential</th>\n",
              "      <th>River</th>\n",
              "      <th>SeaLake</th>\n",
              "    </tr>\n",
              "  </thead>\n",
              "  <tbody>\n",
              "    <tr>\n",
              "      <th>Annual Crop</th>\n",
              "      <td>0.86</td>\n",
              "      <td>0.02</td>\n",
              "      <td>0.01</td>\n",
              "      <td>0.00</td>\n",
              "      <td>0.02</td>\n",
              "      <td>0.05</td>\n",
              "      <td>0.00</td>\n",
              "      <td>0.02</td>\n",
              "      <td>0.00</td>\n",
              "      <td>0.01</td>\n",
              "    </tr>\n",
              "    <tr>\n",
              "      <th>Forest</th>\n",
              "      <td>0.01</td>\n",
              "      <td>0.99</td>\n",
              "      <td>0.00</td>\n",
              "      <td>0.00</td>\n",
              "      <td>0.00</td>\n",
              "      <td>0.00</td>\n",
              "      <td>0.00</td>\n",
              "      <td>0.00</td>\n",
              "      <td>0.00</td>\n",
              "      <td>0.00</td>\n",
              "    </tr>\n",
              "    <tr>\n",
              "      <th>HerbaceousVegetation</th>\n",
              "      <td>0.00</td>\n",
              "      <td>0.00</td>\n",
              "      <td>0.86</td>\n",
              "      <td>0.00</td>\n",
              "      <td>0.02</td>\n",
              "      <td>0.00</td>\n",
              "      <td>0.00</td>\n",
              "      <td>0.04</td>\n",
              "      <td>0.07</td>\n",
              "      <td>0.00</td>\n",
              "    </tr>\n",
              "    <tr>\n",
              "      <th>Highway</th>\n",
              "      <td>0.00</td>\n",
              "      <td>0.00</td>\n",
              "      <td>0.01</td>\n",
              "      <td>0.96</td>\n",
              "      <td>0.01</td>\n",
              "      <td>0.00</td>\n",
              "      <td>0.00</td>\n",
              "      <td>0.03</td>\n",
              "      <td>0.00</td>\n",
              "      <td>0.00</td>\n",
              "    </tr>\n",
              "    <tr>\n",
              "      <th>Industrial</th>\n",
              "      <td>0.03</td>\n",
              "      <td>0.00</td>\n",
              "      <td>0.00</td>\n",
              "      <td>0.01</td>\n",
              "      <td>0.84</td>\n",
              "      <td>0.01</td>\n",
              "      <td>0.00</td>\n",
              "      <td>0.06</td>\n",
              "      <td>0.06</td>\n",
              "      <td>0.00</td>\n",
              "    </tr>\n",
              "    <tr>\n",
              "      <th>Pasture</th>\n",
              "      <td>0.01</td>\n",
              "      <td>0.01</td>\n",
              "      <td>0.11</td>\n",
              "      <td>0.01</td>\n",
              "      <td>0.08</td>\n",
              "      <td>0.44</td>\n",
              "      <td>0.01</td>\n",
              "      <td>0.07</td>\n",
              "      <td>0.12</td>\n",
              "      <td>0.14</td>\n",
              "    </tr>\n",
              "    <tr>\n",
              "      <th>PermanentCrop</th>\n",
              "      <td>0.00</td>\n",
              "      <td>0.00</td>\n",
              "      <td>0.00</td>\n",
              "      <td>0.00</td>\n",
              "      <td>0.01</td>\n",
              "      <td>0.01</td>\n",
              "      <td>0.81</td>\n",
              "      <td>0.00</td>\n",
              "      <td>0.00</td>\n",
              "      <td>0.18</td>\n",
              "    </tr>\n",
              "    <tr>\n",
              "      <th>Residential</th>\n",
              "      <td>0.00</td>\n",
              "      <td>0.00</td>\n",
              "      <td>0.03</td>\n",
              "      <td>0.08</td>\n",
              "      <td>0.06</td>\n",
              "      <td>0.00</td>\n",
              "      <td>0.00</td>\n",
              "      <td>0.79</td>\n",
              "      <td>0.04</td>\n",
              "      <td>0.01</td>\n",
              "    </tr>\n",
              "    <tr>\n",
              "      <th>River</th>\n",
              "      <td>0.00</td>\n",
              "      <td>0.00</td>\n",
              "      <td>0.03</td>\n",
              "      <td>0.00</td>\n",
              "      <td>0.08</td>\n",
              "      <td>0.02</td>\n",
              "      <td>0.00</td>\n",
              "      <td>0.02</td>\n",
              "      <td>0.83</td>\n",
              "      <td>0.02</td>\n",
              "    </tr>\n",
              "    <tr>\n",
              "      <th>SeaLake</th>\n",
              "      <td>0.00</td>\n",
              "      <td>0.00</td>\n",
              "      <td>0.00</td>\n",
              "      <td>0.00</td>\n",
              "      <td>0.02</td>\n",
              "      <td>0.01</td>\n",
              "      <td>0.02</td>\n",
              "      <td>0.01</td>\n",
              "      <td>0.03</td>\n",
              "      <td>0.92</td>\n",
              "    </tr>\n",
              "  </tbody>\n",
              "</table>\n",
              "</div>"
            ],
            "text/plain": [
              "                      Annual Crop  Forest  ...  River  SeaLake\n",
              "Annual Crop                  0.86    0.02  ...   0.00     0.01\n",
              "Forest                       0.01    0.99  ...   0.00     0.00\n",
              "HerbaceousVegetation         0.00    0.00  ...   0.07     0.00\n",
              "Highway                      0.00    0.00  ...   0.00     0.00\n",
              "Industrial                   0.03    0.00  ...   0.06     0.00\n",
              "Pasture                      0.01    0.01  ...   0.12     0.14\n",
              "PermanentCrop                0.00    0.00  ...   0.00     0.18\n",
              "Residential                  0.00    0.00  ...   0.04     0.01\n",
              "River                        0.00    0.00  ...   0.83     0.02\n",
              "SeaLake                      0.00    0.00  ...   0.03     0.92\n",
              "\n",
              "[10 rows x 10 columns]"
            ]
          },
          "metadata": {},
          "execution_count": 34
        }
      ]
    },
    {
      "cell_type": "markdown",
      "metadata": {
        "id": "0hzwOiW7P29D"
      },
      "source": [
        "As a final step, we can visualize the `normalized confusion matrix` with the function `heatmap()` from the seaborn library."
      ]
    },
    {
      "cell_type": "code",
      "metadata": {
        "colab": {
          "base_uri": "https://localhost:8080/",
          "height": 740
        },
        "id": "Tez--5jcQ3NG",
        "outputId": "6f18b03a-c9f0-47c0-b917-69d4e185316c"
      },
      "source": [
        "plt.figure(figsize=(10,10))\n",
        "sns.heatmap(con_mat_df_norm,\n",
        "            annot=True,\n",
        "            cmap=plt.cm.Blues)\n",
        "plt.tight_layout()\n",
        "plt.ylabel('True label')\n",
        "plt.xlabel('Predicted label')\n",
        "plt.show()"
      ],
      "execution_count": null,
      "outputs": [
        {
          "output_type": "display_data",
          "data": {
            "image/png": "[encoded data removed]",
            "text/plain": [
              "<Figure size 720x720 with 2 Axes>"
            ]
          },
          "metadata": {
            "needs_background": "light"
          }
        }
      ]
    },
    {
      "cell_type": "code",
      "metadata": {
        "id": "wGyhOtndRta-"
      },
      "source": [
        ""
      ],
      "execution_count": null,
      "outputs": []
    }
  ]
}